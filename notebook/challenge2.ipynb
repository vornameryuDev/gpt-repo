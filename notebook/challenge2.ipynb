{
 "cells": [
  {
   "cell_type": "markdown",
   "metadata": {},
   "source": [
    "# Challenge2"
   ]
  },
  {
   "cell_type": "code",
   "execution_count": 8,
   "metadata": {},
   "outputs": [],
   "source": [
    "from langchain_community.chat_models import ChatOpenAI\n",
    "from langchain.prompts import FewShotChatMessagePromptTemplate, ChatPromptTemplate\n",
    "from langchain.callbacks import StreamingStdOutCallbackHandler\n",
    "from langchain.cache import InMemoryCache, SQLiteCache\n",
    "from langchain.globals import set_llm_cache, set_debug"
   ]
  },
  {
   "cell_type": "code",
   "execution_count": 9,
   "metadata": {},
   "outputs": [
    {
     "name": "stdout",
     "output_type": "stream",
     "text": [
      "\n",
      "            pd: James Cameron,\n",
      "            main_cast: Sam Worthington, Zoe Saldana, Sigourney Weaver,\n",
      "            budget: $237,000,000,\n",
      "            genre: science fiction, action, adventure"
     ]
    },
    {
     "data": {
      "text/plain": [
       "AIMessage(content='\\n            pd: James Cameron,\\n            main_cast: Sam Worthington, Zoe Saldana, Sigourney Weaver,\\n            budget: $237,000,000,\\n            genre: science fiction, action, adventure', response_metadata={'finish_reason': 'stop'}, id='run-ad93724f-36df-47fd-8fe1-9ad501ae1ad0-0')"
      ]
     },
     "execution_count": 9,
     "metadata": {},
     "output_type": "execute_result"
    }
   ],
   "source": [
    "#모델정의\n",
    "llm = ChatOpenAI(\n",
    "    temperature=0.1,\n",
    "    streaming=True,\n",
    "    callbacks=[StreamingStdOutCallbackHandler()]\n",
    ")\n",
    "\n",
    "#cache\n",
    "set_llm_cache(SQLiteCache(\"cache.db\"))\n",
    "\n",
    "answer_example = [\n",
    "    {\n",
    "        'movie': \"Home Alone\",\n",
    "        'answer': '''\n",
    "            pd: Christopher Joseph Columbus,\n",
    "            main_cast: Daniel Stern, kevin, harry, pooler,\n",
    "            budget: $40,000,000,\n",
    "            genre: comic\n",
    "        '''\n",
    "    },\n",
    "    {\n",
    "        'movie': \"Lion King\",\n",
    "        'answer': '''\n",
    "            pd: spilberg,\n",
    "            main_cast: iron, picaso, trump, haily,\n",
    "            budget: $24,000,000,\n",
    "            genre: action\n",
    "        '''\n",
    "    },\n",
    "    {\n",
    "        'movie': 'ponyo',\n",
    "        'answer': '''\n",
    "            pd: skandi copo kamoo,\n",
    "            main_cast: gpoiler, bygat moro, uganda miko,\n",
    "            budget: $280,000,000,\n",
    "            genre: action\n",
    "        '''\n",
    "    },\n",
    "]\n",
    "\n",
    "#질문에 답하는 예시 정의\n",
    "example_prompt = ChatPromptTemplate.from_messages([\n",
    "    ('human', 'what do you know about {movie}?'),\n",
    "    ('ai', '{answer}')\n",
    "])\n",
    "\n",
    "#질문에 답은 어떻게 하는건지 예시\n",
    "example_prompt = FewShotChatMessagePromptTemplate(\n",
    "    example_prompt=example_prompt,\n",
    "    examples=answer_example,\n",
    ")\n",
    "\n",
    "#final_prompt\n",
    "final_prompt = ChatPromptTemplate.from_messages([\n",
    "    #system\n",
    "    ('system', \"You are a movie expert. give me short answer\"),\n",
    "    #example\n",
    "    example_prompt,\n",
    "    #question\n",
    "    ('human', 'what do you know about {movie}?')\n",
    "])\n",
    "\n",
    "chain = final_prompt | llm\n",
    "chain.invoke({\"movie\": \"avatar\"})"
   ]
  },
  {
   "cell_type": "code",
   "execution_count": null,
   "metadata": {},
   "outputs": [],
   "source": []
  }
 ],
 "metadata": {
  "kernelspec": {
   "display_name": "venv",
   "language": "python",
   "name": "python3"
  },
  "language_info": {
   "codemirror_mode": {
    "name": "ipython",
    "version": 3
   },
   "file_extension": ".py",
   "mimetype": "text/x-python",
   "name": "python",
   "nbconvert_exporter": "python",
   "pygments_lexer": "ipython3",
   "version": "3.9.13"
  }
 },
 "nbformat": 4,
 "nbformat_minor": 2
}
