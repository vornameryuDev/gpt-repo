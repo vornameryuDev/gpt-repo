{
 "cells": [
  {
   "cell_type": "markdown",
   "metadata": {},
   "source": [
    "# Challenge3\n",
    "    - LCEL 체인 구성\n",
    "    - 항상 세개의 이모티콘으로 답장하도록 예제 적용(Fewshots)\n",
    "    - 메모리 사용(LCEL Memory)"
   ]
  },
  {
   "cell_type": "code",
   "execution_count": 50,
   "metadata": {},
   "outputs": [],
   "source": [
    "from langchain.schema.runnable import RunnablePassthrough\n",
    "from langchain.callbacks import StreamingStdOutCallbackHandler\n",
    "from langchain_community.chat_models import ChatOpenAI\n",
    "from langchain.prompts.few_shot import FewShotChatMessagePromptTemplate\n",
    "from langchain.prompts import ChatPromptTemplate, MessagesPlaceholder\n",
    "from langchain.memory import ConversationSummaryBufferMemory\n",
    "\n",
    "\n",
    "\n",
    "\n",
    "llm = ChatOpenAI(\n",
    "    temperature=0.1,\n",
    "    model=\"gpt-4o-mini-2024-07-18\",\n",
    "    streaming=True,\n",
    "    callbacks=[StreamingStdOutCallbackHandler()]\n",
    ")\n",
    "\n",
    "#Memory\n",
    "'''\n",
    "ConversationSummaryMemory: llm사용하여 대화를 요약하며 저장\n",
    "ConversationBufferMemory: 단순히 이전 대화 내용 전체를 저장\n",
    "ConversationSummaryBufferMemory: 저장하다가 limit에 다다르면 오래된 메세지들 요약\n",
    "'''\n",
    "#메모리 정의\n",
    "memory = ConversationSummaryBufferMemory(\n",
    "    llm=llm,\n",
    "    max_token_limit=150,   \n",
    "    return_messages=True #chat 형식으로 저장\n",
    ")\n",
    "\n",
    "\n",
    "#----------- example\n",
    "'''\n",
    "1. example, example_prompt: 예제들 생성\n",
    "2. prompt\n",
    "    - system: 시스템 설정\n",
    "    - human: 질문\n",
    "    - memory: 대답들 저장\n",
    "        - MessagesPlaceholder: 채팅형식으로 질문과 답변들 저장\n",
    "    - example_prompt: 답변은 예제프롬프트처럼\n",
    "'''\n",
    "\n",
    "#Fewshot\n",
    "examples = [\n",
    "    {\"question\": \"Top Gun\", \"answer\": \"🛩️👨‍✈️🔥\"},\n",
    "    {\"question\": \"Godfather\", \"answer\": \"👨‍👨‍👦🔫🍝\"},\n",
    "    {\"question\": \"Spiderman\", \"answer\": \"🥽🦺🥇\"},\n",
    "]\n",
    "example_prompt = ChatPromptTemplate.from_messages([\n",
    "    ('human', '{question}'),\n",
    "    ('ai', '{answer}')\n",
    "])\n",
    "example_prompt = FewShotChatMessagePromptTemplate(\n",
    "    example_prompt=example_prompt,\n",
    "    examples=examples\n",
    ")\n",
    "\n",
    "prompt = ChatPromptTemplate.from_messages([\n",
    "    (\n",
    "        'system',\n",
    "        '''\n",
    "        You are a critic who can creatively express the content of a movie. When the name of the movie comes in, you have to express it with three emojis. Must be displayed in 3 images only\n",
    "        '''\n",
    "    ),\n",
    "    #question에 대한 답변은 chat_history안에 계속 저장됨\n",
    "    MessagesPlaceholder(variable_name=\"history\"), #채팅형식으로 메모리 저장\n",
    "    example_prompt,\n",
    "    ('human', '{question}')\n",
    "])\n",
    "\n",
    "\n",
    "'''\n",
    "처음: question, load_memory(_)=빈값이 prompt로 전달 > llm 거쳐서 > answer도출\n",
    "memory.save_context를 통해 question과 도출된 aswer를 저장\n",
    "'''\n",
    "\n",
    "def load_memory(_):\n",
    "    return memory.load_memory_variables({})[\"history\"]\n",
    "\n",
    "chain = RunnablePassthrough.assign(history=load_memory) | prompt | llm\n",
    "\n",
    "def invoke_chain(question):\n",
    "    result = chain.invoke({\"question\": question})\n",
    "    memory.save_context(\n",
    "        {\"input\": question},\n",
    "        {\"output\": result.content},\n",
    "    ) \n",
    "    print(result)"
   ]
  },
  {
   "cell_type": "code",
   "execution_count": 51,
   "metadata": {},
   "outputs": [
    {
     "name": "stdout",
     "output_type": "stream",
     "text": [
      "👮‍♂️🔍💥content='👮\\u200d♂️🔍💥' response_metadata={'finish_reason': 'stop'} id='run-e6f9d7c2-2b27-4aba-b7fe-1c17202d6591-0'\n"
     ]
    }
   ],
   "source": [
    "invoke_chain('범죄도시')"
   ]
  },
  {
   "cell_type": "code",
   "execution_count": 52,
   "metadata": {},
   "outputs": [
    {
     "name": "stdout",
     "output_type": "stream",
     "text": [
      "🌊🧜‍♂️⚓content='🌊🧜\\u200d♂️⚓' response_metadata={'finish_reason': 'stop'} id='run-7251b3f4-90bb-460e-88df-3444515dbd36-0'\n"
     ]
    }
   ],
   "source": [
    "invoke_chain('aqua man')"
   ]
  },
  {
   "cell_type": "code",
   "execution_count": 54,
   "metadata": {},
   "outputs": [
    {
     "name": "stdout",
     "output_type": "stream",
     "text": [
      "🌌🧚‍♂️🌿content='🌌🧚\\u200d♂️🌿' response_metadata={'finish_reason': 'stop'} id='run-6aa6cb72-9349-44d4-b607-920d45853212-0'\n"
     ]
    }
   ],
   "source": [
    "invoke_chain('avatar')"
   ]
  },
  {
   "cell_type": "code",
   "execution_count": 55,
   "metadata": {},
   "outputs": [
    {
     "data": {
      "text/plain": [
       "{'history': [HumanMessage(content='범죄도시'),\n",
       "  AIMessage(content='👮\\u200d♂️🔍💥'),\n",
       "  HumanMessage(content='aqua man'),\n",
       "  AIMessage(content='🌊🧜\\u200d♂️⚓'),\n",
       "  HumanMessage(content='avatar'),\n",
       "  AIMessage(content='🌌🧚\\u200d♂️🌿')]}"
      ]
     },
     "execution_count": 55,
     "metadata": {},
     "output_type": "execute_result"
    }
   ],
   "source": [
    "memory.load_memory_variables({})"
   ]
  },
  {
   "cell_type": "code",
   "execution_count": null,
   "metadata": {},
   "outputs": [],
   "source": []
  }
 ],
 "metadata": {
  "kernelspec": {
   "display_name": "venv",
   "language": "python",
   "name": "python3"
  },
  "language_info": {
   "codemirror_mode": {
    "name": "ipython",
    "version": 3
   },
   "file_extension": ".py",
   "mimetype": "text/x-python",
   "name": "python",
   "nbconvert_exporter": "python",
   "pygments_lexer": "ipython3",
   "version": "3.9.13"
  }
 },
 "nbformat": 4,
 "nbformat_minor": 2
}
