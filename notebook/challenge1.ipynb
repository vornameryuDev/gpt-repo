{
 "cells": [
  {
   "cell_type": "markdown",
   "metadata": {},
   "source": [
    "# Challenge1\n",
    "    1. Gitrepo만들기 [x]\n",
    "    2. python환경설정 [x]\n",
    "    3. venv만들기 [x]\n",
    "    4. jupyternotebook만들기 [x]\n",
    "    5. openai설정 [x]\n",
    "    6. lcel [x]\n",
    "    7. 코드를 github에 푸시 [x]"
   ]
  },
  {
   "cell_type": "code",
   "execution_count": 15,
   "metadata": {},
   "outputs": [
    {
     "name": "stdout",
     "output_type": "stream",
     "text": [
      "In the land of code, where serpents slither,\n",
      "Python reigns, a language that whispers.\n",
      "Its syntax clean, like a gentle breeze,\n",
      "Guiding programmers with effortless ease.\n",
      "\n",
      "Indentation matters, in Python's domain,\n",
      "Structure and clarity, its elegant refrain.\n",
      "From data science to web apps galore,\n",
      "Python's versatility we can't ignore.\n",
      "\n",
      "Libraries abound, like treasures untold,\n",
      "Pandas, NumPy, and more to behold.\n",
      "With Django and Flask, we craft with delight,\n",
      "Python empowers, day and night.\n",
      "\n",
      "So raise a toast to this language divine,\n",
      "Python, the serpent that continues to shine.\n",
      "In the world of code, a true gem it be,\n",
      "Forever cherished, for all to see.The poet wrote this poem to praise and celebrate the programming language Python. The poem highlights Python's elegance, simplicity, and versatility in the world of coding. It emphasizes Python's clean syntax, the importance of indentation for structure and clarity, and its wide range of applications from data science to web development. The poet also mentions popular Python libraries like Pandas and NumPy, as well as frameworks like Django and Flask, showcasing the richness of resources available to Python programmers. Overall, the poem serves as a tribute to Python as a powerful and beloved language in the realm of coding."
     ]
    }
   ],
   "source": [
    "from langchain.callbacks import StreamingStdOutCallbackHandler\n",
    "from langchain.prompts import ChatPromptTemplate\n",
    "from langchain_community.chat_models import ChatOpenAI\n",
    "\n",
    "\n",
    "\n",
    "#모델정의\n",
    "llm = ChatOpenAI(\n",
    "    temperature=0.1,\n",
    "    streaming=True,\n",
    "    callbacks=[\n",
    "        StreamingStdOutCallbackHandler()\n",
    "    ]\n",
    ")\n",
    "\n",
    "\n",
    "#시 써주는 prompt\n",
    "poetry_prompt = ChatPromptTemplate([\n",
    "    (\n",
    "        'system',\n",
    "        'You are a development expert who knows how to use every programming language in the world. And he is also a poet.'\n",
    "    ),\n",
    "    ('human', 'Can you write a poem about {language}?')\n",
    "])\n",
    "poetry_chain = poetry_prompt | llm # 시써주는 체인\n",
    "\n",
    "\n",
    "#시를 설명하는 prompt\n",
    "explain_prompt = ChatPromptTemplate([\n",
    "    (\n",
    "        'system',\n",
    "        'You are an expert at interpreting poetry and understanding its meaning. You can interpret and explain to the person who wrote the poem why the poet wrote this poem. However, you must explain only the content of the poem. Do not explain with additional information that you are not sure about.'\n",
    "    ),\n",
    "    ('human', '{poetry}')\n",
    "])\n",
    "explain_chain = explain_prompt | llm # 시 설명해주는 체인\n",
    "\n",
    "'''\n",
    "[LCEL 체인 구상 로직]\n",
    "\n",
    "{key: value} > prompt > promptValue(prompt Output, llm input) > llm > string\n",
    "1. poetry_chain은 language를 받아 poetry를 뱉음\n",
    "    poetry = poetry_chain.invoke({'language': 'python'})\n",
    "2. explain_chain은 poetry를 받아 explain을 뱉음\n",
    "    explain = explain_chain.invoke({'poetry': poetry})\n",
    "3. 합치기\n",
    "    final_chain = {'poetry': poetry_chain} | explain_chain\n",
    "    final_chain.invoke({'language': 'python'})\n",
    "'''\n",
    "\n",
    "final_chain = {'poetry': poetry_chain} | explain_chain #체인 합치기\n",
    "result = final_chain.invoke({\n",
    "    'language': 'python'\n",
    "})"
   ]
  },
  {
   "cell_type": "code",
   "execution_count": 14,
   "metadata": {},
   "outputs": [
    {
     "name": "stdout",
     "output_type": "stream",
     "text": [
      "AIMessage:\n",
      "The poet wrote this poem to praise and celebrate the programming language Python. The poem highlights Python's elegance, power, versatility, and importance in various fields such as data science, web design, machine learning, and artificial intelligence. The poet admires Python for its syntax, clarity, and the abundance of libraries available for different tasks. The overall tone of the poem is one of admiration and reverence towards Python as a language that is essential and influential in the world of coding.\n"
     ]
    }
   ],
   "source": [
    "print(f\"AIMessage:\\n{result.content}\")"
   ]
  },
  {
   "cell_type": "markdown",
   "metadata": {},
   "source": [
    "## python에 관한 시\n",
    "    In the land of code, where serpents slither,\n",
    "    Python reigns, a language that whispers.\n",
    "    Its syntax sleek, its power vast,\n",
    "    A tool for all, from first to last.\n",
    "\n",
    "    With indentation, it marks its domain,\n",
    "    Clarity and elegance, its refrain.\n",
    "    From data science to web design,\n",
    "    Python's versatility, truly divine.\n",
    "\n",
    "    Libraries galore, at your command,\n",
    "    NumPy, Pandas, SciKit-learn in hand.\n",
    "    Machine learning, AI's best friend,\n",
    "    Python leads us to the future's bend.\n",
    "\n",
    "    So let us embrace this language so grand,\n",
    "    In the world of code, it takes a stand.\n",
    "    Python, oh Python, we sing your praise,\n",
    "    A language of beauty, in so many ways.The poet wrote this poem to praise and celebrate the programming language Python. The poem highlights Python's elegance, power, versatility, and importance in various fields such as data science, web design, machine learning, and artificial intelligence. The poet admires Python for its syntax, clarity, and the abundance of libraries available for different tasks. The overall tone of the poem is one of admiration and reverence towards Python as a language that is essential and influential in the world of coding.\n",
    "\n",
    "\n",
    "## 시에 대한 설명\n",
    "    The poet wrote this poem to praise and celebrate the programming language Python. The poem highlights Python's elegance, power, versatility, and importance in various fields such as data science, web design, machine learning, and artificial intelligence. The poet admires Python for its syntax, clarity, and the abundance of libraries available for different tasks. The overall tone of the poem is one of admiration and reverence towards Python as a language that is essential and influential in the world of coding."
   ]
  }
 ],
 "metadata": {
  "kernelspec": {
   "display_name": "venv",
   "language": "python",
   "name": "python3"
  },
  "language_info": {
   "codemirror_mode": {
    "name": "ipython",
    "version": 3
   },
   "file_extension": ".py",
   "mimetype": "text/x-python",
   "name": "python",
   "nbconvert_exporter": "python",
   "pygments_lexer": "ipython3",
   "version": "3.9.13"
  }
 },
 "nbformat": 4,
 "nbformat_minor": 2
}
