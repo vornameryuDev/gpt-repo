{
 "cells": [
  {
   "cell_type": "markdown",
   "metadata": {},
   "source": [
    "새로운 Jupyter notebook에서 리서치 AI 에이전트를 만들고 커스텀 도구를 부여합니다.\n",
    "에이전트는 다음 작업을 수행할 수 있어야 합니다:\n",
    "\n",
    "- Agent만들기\n",
    "- Agent 실행시 순서\n",
    "    - 검색어: Research about the XZ backdoor\n",
    "    - Wikipedia에서 검색\n",
    "    - DuckDuckGo에서 검색\n",
    "    - 웹사이트의 텍스트 스크랩하고 추출\n",
    "    - 리서치 결과 .txt파일로 저장"
   ]
  },
  {
   "cell_type": "markdown",
   "metadata": {},
   "source": [
    "## investorGPT 코드 분석\n",
    "- 회사 검색\n",
    "- 주식성과, 회사개요, 손익계산서 고려\n",
    "    - agent: AgentType.OENAI_FUNCTIONS\n",
    "        - handle_parsing_errors=True,\n",
    "        - verbose=True, \n",
    "        - tools\n",
    "            - overview: 회사개요\n",
    "            - incomestatement: 손익계산서\n",
    "            - stockperformance: 주식성과\n",
    "        - agent_kwargs: agent+tool이 실행되어서 나와야 하는 결과에 대한 설명(like prompt)\n",
    "- 판단 > 추천하거나 반대"
   ]
  },
  {
   "cell_type": "code",
   "execution_count": null,
   "metadata": {},
   "outputs": [],
   "source": []
  }
 ],
 "metadata": {
  "language_info": {
   "name": "python"
  }
 },
 "nbformat": 4,
 "nbformat_minor": 2
}
