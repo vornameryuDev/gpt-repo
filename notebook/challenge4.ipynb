{
 "cells": [
  {
   "cell_type": "markdown",
   "metadata": {},
   "source": [
    "# challenge4\n",
    "- ConversationBufferMemory: 이전 대화내용 그대로 저장\n",
    "- Stuff Documents chain: docs > 하나의doc > answer"
   ]
  },
  {
   "cell_type": "code",
   "execution_count": 8,
   "metadata": {},
   "outputs": [
    {
     "data": {
      "text/plain": [
       "'\\n[stuff]\\n1. 실행구조\\n    human: Question\\n    ai: invoke(question, retriever, history(memory)) > result > save(memory)\\n\\n2. retriever산출(stuff)\\n    1) load_file\\n    2) text_split\\n    3) embeddings & cache\\n    4) vectorstore > retriever\\n'"
      ]
     },
     "execution_count": 8,
     "metadata": {},
     "output_type": "execute_result"
    }
   ],
   "source": [
    "'''\n",
    "[stuff]\n",
    "1. 실행구조\n",
    "    human: Question\n",
    "    ai: invoke(question, retriever, history(memory)) > result > save(memory)\n",
    "\n",
    "2. retriever산출(stuff)\n",
    "    1) load_file(o)\n",
    "    2) text_split(o)\n",
    "    3) embeddings & cache(o)\n",
    "    4) vectorstore > retriever(o)\n",
    "'''"
   ]
  },
  {
   "cell_type": "code",
   "execution_count": 2,
   "metadata": {},
   "outputs": [
    {
     "name": "stdout",
     "output_type": "stream",
     "text": [
      "34\n",
      "[Document(metadata={'source': '../files/chapter3.txt'}, page_content='Chapter 3\\n\\'There are three stages in your reintegration,\\' said O\\'Brien. \\'There is\\nlearning, there is understanding, and there is acceptance. It is time for\\nyou to enter upon the second stage.\\'\\nAs always, Winston was lying flat on his back. But of late his bonds were\\nlooser. They still held him to the bed, but he could move his knees a\\nlittle and could turn his head from side to side and raise his arms from\\nthe elbow. The dial, also, had grown to be less of a terror. He could\\nevade its pangs if he was quick-witted enough: it was chiefly when he\\nshowed stupidity that O\\'Brien pulled the lever. Sometimes they got through\\na whole session without use of the dial. He could not remember how many\\nsessions there had been. The whole process seemed to stretch out over a\\nlong, indefinite time--weeks, possibly--and the intervals between the\\nsessions might sometimes have been days, sometimes only an hour or two.\\n\\'As you lie there,\\' said O\\'Brien, \\'you have often wondered--you have even\\nasked me--why the Ministry of Love should expend so much time and trouble\\non you. And when you were free you were puzzled by what was essentially\\nthe same question. You could grasp the mechanics of the Society you lived\\nin, but not its underlying motives. Do you remember writing in your diary,\\n\"I understand HOW: I do not understand WHY\"? It was when you thought about\\n\"why\" that you doubted your own sanity. You have read THE BOOK,\\nGoldstein\\'s book, or parts of it, at least. Did it tell you anything that\\nyou did not know already?\\'\\n\\'You have read it?\\' said Winston.\\n\\'I wrote it. That is to say, I collaborated in writing it. No book is\\nproduced individually, as you know.\\'\\n\\'Is it true, what it says?\\'\\n\\'As description, yes. The programme it sets forth is nonsense. The secret\\naccumulation of knowledge--a gradual spread of enlightenment--ultimately\\na proletarian rebellion--the overthrow of the Party. You foresaw yourself\\nthat that was what it would say. It is all nonsense. The proletarians will\\nnever revolt, not in a thousand years or a million. They cannot. I do\\nnot have to tell you the reason: you know it already. If you have ever\\ncherished any dreams of violent insurrection, you must abandon them. There\\nis no way in which the Party can be overthrown. The rule of the Party is\\nfor ever. Make that the starting-point of your thoughts.\\'\\nHe came closer to the bed. \\'For ever!\\' he repeated. \\'And now let us get'), Document(metadata={'source': '../files/chapter3.txt'}, page_content='not have to tell you the reason: you know it already. If you have ever\\ncherished any dreams of violent insurrection, you must abandon them. There\\nis no way in which the Party can be overthrown. The rule of the Party is\\nfor ever. Make that the starting-point of your thoughts.\\'\\nHe came closer to the bed. \\'For ever!\\' he repeated. \\'And now let us get\\nback to the question of \"how\" and \"why\". You understand well enough HOW\\nthe Party maintains itself in power. Now tell me WHY we cling to power.\\nWhat is our motive? Why should we want power? Go on, speak,\\' he added as\\nWinston remained silent.\\nNevertheless Winston did not speak for another moment or two. A feeling of\\nweariness had overwhelmed him. The faint, mad gleam of enthusiasm had come\\nback into O\\'Brien\\'s face. He knew in advance what O\\'Brien would say. That\\nthe Party did not seek power for its own ends, but only for the good of\\nthe majority. That it sought power because men in the mass were frail,\\ncowardly creatures who could not endure liberty or face the truth, and\\nmust be ruled over and systematically deceived by others who were stronger\\nthan themselves. That the choice for mankind lay between freedom and\\nhappiness, and that, for the great bulk of mankind, happiness was better.\\nThat the party was the eternal guardian of the weak, a dedicated sect\\ndoing evil that good might come, sacrificing its own happiness to that of\\nothers. The terrible thing, thought Winston, the terrible thing was that\\nwhen O\\'Brien said this he would believe it. You could see it in his face.\\nO\\'Brien knew everything. A thousand times better than Winston he knew what\\nthe world was really like, in what degradation the mass of human beings\\nlived and by what lies and barbarities the Party kept them there. He had\\nunderstood it all, weighed it all, and it made no difference: all was\\njustified by the ultimate purpose. What can you do, thought Winston,\\nagainst the lunatic who is more intelligent than yourself, who gives your\\narguments a fair hearing and then simply persists in his lunacy?\\n\\'You are ruling over us for our own good,\\' he said feebly. \\'You believe\\nthat human beings are not fit to govern themselves, and therefore----\\'\\nHe started and almost cried out. A pang of pain had shot through his body.\\nO\\'Brien had pushed the lever of the dial up to thirty-five.\\n\\'That was stupid, Winston, stupid!\\' he said. \\'You should know better than\\nto say a thing like that.\\'\\nHe pulled the lever back and continued:\\n\\'Now I will tell you the answer to my question. It is this. The Party'), Document(metadata={'source': '../files/chapter3.txt'}, page_content=\"He started and almost cried out. A pang of pain had shot through his body.\\nO'Brien had pushed the lever of the dial up to thirty-five.\\n'That was stupid, Winston, stupid!' he said. 'You should know better than\\nto say a thing like that.'\\nHe pulled the lever back and continued:\\n'Now I will tell you the answer to my question. It is this. The Party\\nseeks power entirely for its own sake. We are not interested in the good\\nof others; we are interested solely in power. Not wealth or luxury or long\\nlife or happiness: only power, pure power. What pure power means you will\\nunderstand presently. We are different from all the oligarchies of the\\npast, in that we know what we are doing. All the others, even those who\\nresembled ourselves, were cowards and hypocrites. The German Nazis and the\\nRussian Communists came very close to us in their methods, but they never\\nhad the courage to recognize their own motives. They pretended, perhaps\\nthey even believed, that they had seized power unwillingly and for a\\nlimited time, and that just round the corner there lay a paradise where\\nhuman beings would be free and equal. We are not like that. We know that\\nno one ever seizes power with the intention of relinquishing it. Power is\\nnot a means, it is an end. One does not establish a dictatorship in order\\nto safeguard a revolution; one makes the revolution in order to establish\\nthe dictatorship. The object of persecution is persecution. The object of\\ntorture is torture. The object of power is power. Now do you begin to\\nunderstand me?'\\nWinston was struck, as he had been struck before, by the tiredness of\\nO'Brien's face. It was strong and fleshy and brutal, it was full of\\nintelligence and a sort of controlled passion before which he felt himself\\nhelpless; but it was tired. There were pouches under the eyes, the skin\\nsagged from the cheekbones. O'Brien leaned over him, deliberately bringing\\nthe worn face nearer.\\n'You are thinking,' he said, 'that my face is old and tired. You are\\nthinking that I talk of power, and yet I am not even able to prevent the\\ndecay of my own body. Can you not understand, Winston, that the individual\\nis only a cell? The weariness of the cell is the vigour of the organism.\\nDo you die when you cut your fingernails?'\\nHe turned away from the bed and began strolling up and down again, one hand\\nin his pocket.\\n'We are the priests of power,' he said. 'God is power. But at present\"), Document(metadata={'source': '../files/chapter3.txt'}, page_content='decay of my own body. Can you not understand, Winston, that the individual\\nis only a cell? The weariness of the cell is the vigour of the organism.\\nDo you die when you cut your fingernails?\\'\\nHe turned away from the bed and began strolling up and down again, one hand\\nin his pocket.\\n\\'We are the priests of power,\\' he said. \\'God is power. But at present\\npower is only a word so far as you are concerned. It is time for you to\\ngather some idea of what power means. The first thing you must realize\\nis that power is collective. The individual only has power in so far as\\nhe ceases to be an individual. You know the Party slogan: \"Freedom is\\nSlavery\". Has it ever occurred to you that it is reversible? Slavery is\\nfreedom. Alone--free--the human being is always defeated. It must be so,\\nbecause every human being is doomed to die, which is the greatest of all\\nfailures. But if he can make complete, utter submission, if he can escape\\nfrom his identity, if he can merge himself in the Party so that he IS the\\nParty, then he is all-powerful and immortal. The second thing for you to\\nrealize is that power is power over human beings. Over the body--but, above\\nall, over the mind. Power over matter--external reality, as you would call\\nit--is not important. Already our control over matter is absolute.\\'\\nFor a moment Winston ignored the dial. He made a violent effort to raise\\nhimself into a sitting position, and merely succeeded in wrenching his\\nbody painfully.\\n\\'But how can you control matter?\\' he burst out. \\'You don\\'t even control\\nthe climate or the law of gravity. And there are disease, pain, death----\\'\\nO\\'Brien silenced him by a movement of his hand. \\'We control matter because\\nwe control the mind. Reality is inside the skull. You will learn by\\ndegrees, Winston. There is nothing that we could not do. Invisibility,\\nlevitation--anything. I could float off this floor like a soap bubble if\\nI wish to. I do not wish to, because the Party does not wish it. You must\\nget rid of those nineteenth-century ideas about the laws of Nature. We\\nmake the laws of Nature.\\'\\n\\'But you do not! You are not even masters of this planet. What about\\nEurasia and Eastasia? You have not conquered them yet.\\'\\n\\'Unimportant. We shall conquer them when it suits us. And if we did not,\\nwhat difference would it make? We can shut them out of existence. Oceania\\nis the world.\\''), Document(metadata={'source': '../files/chapter3.txt'}, page_content=\"get rid of those nineteenth-century ideas about the laws of Nature. We\\nmake the laws of Nature.'\\n'But you do not! You are not even masters of this planet. What about\\nEurasia and Eastasia? You have not conquered them yet.'\\n'Unimportant. We shall conquer them when it suits us. And if we did not,\\nwhat difference would it make? We can shut them out of existence. Oceania\\nis the world.'\\n'But the world itself is only a speck of dust. And man is tiny--helpless!\\nHow long has he been in existence? For millions of years the earth was\\nuninhabited.'\\n'Nonsense. The earth is as old as we are, no older. How could it be older?\\nNothing exists except through human consciousness.'\\n'But the rocks are full of the bones of extinct animals--mammoths and\\nmastodons and enormous reptiles which lived here long before man was ever\\nheard of.'\\n'Have you ever seen those bones, Winston? Of course not. Nineteenth-century\\nbiologists invented them. Before man there was nothing. After man, if he\\ncould come to an end, there would be nothing. Outside man there is\\nnothing.'\\n'But the whole universe is outside us. Look at the stars! Some of them are\\na million light-years away. They are out of our reach for ever.'\\n'What are the stars?' said O'Brien indifferently. 'They are bits of fire\\na few kilometres away. We could reach them if we wanted to. Or we could\\nblot them out. The earth is the centre of the universe. The sun and the\\nstars go round it.'\\nWinston made another convulsive movement. This time he did not say\\nanything. O'Brien continued as though answering a spoken objection:\\n'For certain purposes, of course, that is not true. When we navigate the\\nocean, or when we predict an eclipse, we often find it convenient to\\nassume that the earth goes round the sun and that the stars are millions\\nupon millions of kilometres away. But what of it? Do you suppose it is\\nbeyond us to produce a dual system of astronomy? The stars can be near\\nor distant, according as we need them. Do you suppose our mathematicians\\nare unequal to that? Have you forgotten doublethink?'\\nWinston shrank back upon the bed. Whatever he said, the swift answer\\ncrushed him like a bludgeon. And yet he knew, he KNEW, that he was in the\\nright. The belief that nothing exists outside your own mind--surely there\\nmust be some way of demonstrating that it was false? Had it not been\\nexposed long ago as a fallacy? There was even a name for it, which he\")]\n"
     ]
    },
    {
     "name": "stderr",
     "output_type": "stream",
     "text": [
      "d:\\web\\gpt-repo\\venv\\lib\\site-packages\\langchain_core\\_api\\deprecation.py:151: LangChainDeprecationWarning: The class `ChatOpenAI` was deprecated in LangChain 0.0.10 and will be removed in 0.3.0. An updated version of the class exists in the langchain-openai package and should be used instead. To use it run `pip install -U langchain-openai` and import as `from langchain_openai import ChatOpenAI`.\n",
      "  warn_deprecated(\n"
     ]
    }
   ],
   "source": [
    "from langchain.document_loaders import TextLoader\n",
    "from langchain.text_splitter import CharacterTextSplitter\n",
    "from langchain.embeddings import OpenAIEmbeddings, CacheBackedEmbeddings\n",
    "from langchain.storage import LocalFileStore\n",
    "from langchain.vectorstores import Chroma\n",
    "from langchain_community.chat_models import ChatOpenAI\n",
    "from langchain.prompts import ChatPromptTemplate, MessagesPlaceholder\n",
    "from langchain.schema.runnable import RunnablePassthrough, RunnableLambda\n",
    "from langchain.memory import ConversationBufferMemory\n",
    "\n",
    "\n",
    "\n",
    "#---------- function\n",
    "# retiever format\n",
    "def format_docs(docs):\n",
    "    return '\\n\\n'.join(doc.page_content for doc in docs)\n",
    "\n",
    "\n",
    "#load memory\n",
    "def load_memory(_):\n",
    "    print(memory.load_memory_variables({})[\"history\"])\n",
    "    return memory.load_memory_variables({})[\"history\"]\n",
    "\n",
    "\n",
    "def embed_file(file):\n",
    "    #load_file    \n",
    "    loader = TextLoader(file)\n",
    "\n",
    "    #split file\n",
    "    splitter = CharacterTextSplitter.from_tiktoken_encoder(\n",
    "        separator=\"\\n\",\n",
    "        chunk_size=600,\n",
    "        chunk_overlap=100,\n",
    "    )\n",
    "    docs = loader.load_and_split(text_splitter=splitter)\n",
    "    print(len(docs))\n",
    "    print(docs[:5])\n",
    "\n",
    "    #embeddings & cache\n",
    "    embeddings = OpenAIEmbeddings()\n",
    "    file_name = file.split('/')[-1]\n",
    "    cache_path = LocalFileStore(f\"./.cache/embeddings/{file_name}\") \n",
    "    cached_embeddings = CacheBackedEmbeddings.from_bytes_store(embeddings, cache_path)\n",
    "\n",
    "    #vectorstore > retriever\n",
    "    vectorstore = Chroma.from_documents(docs, cached_embeddings)\n",
    "    retriever = vectorstore.as_retriever()\n",
    "    return retriever\n",
    "\n",
    "\n",
    "def invoke_chain(question):\n",
    "    result = chain.invoke(question)\n",
    "    memory.save_context(\n",
    "        {'input': question},\n",
    "        {'output': result.content}\n",
    "    )\n",
    "    print(result)\n",
    "\n",
    "\n",
    "\n",
    "#--------- retriever\n",
    "file_path = r\"../files/chapter3.txt\"\n",
    "retriever = embed_file(file_path)\n",
    "\n",
    "\n",
    "#---------- prompt & invoke\n",
    "llm = ChatOpenAI(temperature=0.1) #llm\n",
    "memory = ConversationBufferMemory(return_messages=True) #memory\n",
    "#prompt\n",
    "prompt = ChatPromptTemplate.from_messages([\n",
    "    (\n",
    "        'system',\n",
    "        \"\"\"\n",
    "            너는 도움을 주는 훌륭한 조수야. 주어지는 문서에서 묻는 말에 대한 답을 찾아줘. 만약 문서안에 답이 없다면 모르겠다고 대답해.\\n\\n{context}\n",
    "        \"\"\",\n",
    "    ),\n",
    "    MessagesPlaceholder(variable_name='history'),\n",
    "    ('human', '{question}')\n",
    "])\n",
    "chain = (\n",
    "    {\n",
    "        \"context\": retriever | RunnableLambda(format_docs),\n",
    "        \"question\": RunnablePassthrough(),\n",
    "        \"history\": load_memory\n",
    "    }\n",
    "    | prompt\n",
    "    | llm\n",
    ")"
   ]
  },
  {
   "cell_type": "code",
   "execution_count": 3,
   "metadata": {},
   "outputs": [
    {
     "name": "stdout",
     "output_type": "stream",
     "text": [
      "[]\n",
      "content='Yes, according to the text, Jones, Aaronson, and Rutherford were guilty of the crimes they were charged with.' response_metadata={'token_usage': {'completion_tokens': 25, 'prompt_tokens': 2435, 'total_tokens': 2460}, 'model_name': 'gpt-3.5-turbo', 'system_fingerprint': None, 'finish_reason': 'stop', 'logprobs': None} id='run-4d2932b8-606c-474c-9452-551412ea3619-0'\n"
     ]
    }
   ],
   "source": [
    "invoke_chain('Is Aaronson guilty?')\n"
   ]
  },
  {
   "cell_type": "code",
   "execution_count": 4,
   "metadata": {},
   "outputs": [
    {
     "name": "stdout",
     "output_type": "stream",
     "text": [
      "[HumanMessage(content='Is Aaronson guilty?'), AIMessage(content='Yes, according to the text, Jones, Aaronson, and Rutherford were guilty of the crimes they were charged with.')]\n",
      "content='The message he wrote on the table was: \"FREEDOM IS SLAVERY\" and \"TWO AND TWO MAKE FIVE\".' response_metadata={'token_usage': {'completion_tokens': 29, 'prompt_tokens': 2448, 'total_tokens': 2477}, 'model_name': 'gpt-3.5-turbo', 'system_fingerprint': None, 'finish_reason': 'stop', 'logprobs': None} id='run-1889cfbe-f382-4a91-9569-44f8af70f345-0'\n"
     ]
    }
   ],
   "source": [
    "invoke_chain('What message did he write in the table?')\n"
   ]
  },
  {
   "cell_type": "code",
   "execution_count": 5,
   "metadata": {},
   "outputs": [
    {
     "name": "stdout",
     "output_type": "stream",
     "text": [
      "[HumanMessage(content='Is Aaronson guilty?'), AIMessage(content='Yes, according to the text, Jones, Aaronson, and Rutherford were guilty of the crimes they were charged with.'), HumanMessage(content='What message did he write in the table?'), AIMessage(content='The message he wrote on the table was: \"FREEDOM IS SLAVERY\" and \"TWO AND TWO MAKE FIVE\".')]\n",
      "content='Julia is a character in the text who is involved in a romantic relationship with Winston, the protagonist.' response_metadata={'token_usage': {'completion_tokens': 21, 'prompt_tokens': 2479, 'total_tokens': 2500}, 'model_name': 'gpt-3.5-turbo', 'system_fingerprint': None, 'finish_reason': 'stop', 'logprobs': None} id='run-326a6a06-c61f-4806-a1bf-8681dd1112ad-0'\n"
     ]
    }
   ],
   "source": [
    "invoke_chain('Who is Julia?')"
   ]
  },
  {
   "cell_type": "code",
   "execution_count": 6,
   "metadata": {},
   "outputs": [
    {
     "name": "stdout",
     "output_type": "stream",
     "text": [
      "[HumanMessage(content='Is Aaronson guilty?'), AIMessage(content='Yes, according to the text, Jones, Aaronson, and Rutherford were guilty of the crimes they were charged with.'), HumanMessage(content='What message did he write in the table?'), AIMessage(content='The message he wrote on the table was: \"FREEDOM IS SLAVERY\" and \"TWO AND TWO MAKE FIVE\".'), HumanMessage(content='Who is Julia?'), AIMessage(content='Julia is a character in the text who is involved in a romantic relationship with Winston, the protagonist.')]\n",
      "content='죄를 지은 것으로 기록되어 있습니다.' response_metadata={'token_usage': {'completion_tokens': 15, 'prompt_tokens': 2537, 'total_tokens': 2552}, 'model_name': 'gpt-3.5-turbo', 'system_fingerprint': None, 'finish_reason': 'stop', 'logprobs': None} id='run-21ce8060-4770-40d3-9e63-1343457c8c84-0'\n"
     ]
    }
   ],
   "source": [
    "invoke_chain('Aaronson 은 유죄인가요?')"
   ]
  },
  {
   "cell_type": "code",
   "execution_count": 7,
   "metadata": {},
   "outputs": [
    {
     "name": "stdout",
     "output_type": "stream",
     "text": [
      "[HumanMessage(content='Is Aaronson guilty?'), AIMessage(content='Yes, according to the text, Jones, Aaronson, and Rutherford were guilty of the crimes they were charged with.'), HumanMessage(content='What message did he write in the table?'), AIMessage(content='The message he wrote on the table was: \"FREEDOM IS SLAVERY\" and \"TWO AND TWO MAKE FIVE\".'), HumanMessage(content='Who is Julia?'), AIMessage(content='Julia is a character in the text who is involved in a romantic relationship with Winston, the protagonist.'), HumanMessage(content='Aaronson 은 유죄인가요?'), AIMessage(content='죄를 지은 것으로 기록되어 있습니다.')]\n",
      "content='그가 테이블에 쓴 메시지는 \"자유는 노예다\"와 \"2와 2는 5다\" 입니다.' response_metadata={'token_usage': {'completion_tokens': 41, 'prompt_tokens': 2584, 'total_tokens': 2625}, 'model_name': 'gpt-3.5-turbo', 'system_fingerprint': None, 'finish_reason': 'stop', 'logprobs': None} id='run-5af81eb2-7c52-49c6-9072-f110fc65ca8b-0'\n"
     ]
    }
   ],
   "source": [
    "invoke_chain('그가 테이블에 어떤 메시지를 썼나요?')"
   ]
  },
  {
   "cell_type": "code",
   "execution_count": 8,
   "metadata": {},
   "outputs": [
    {
     "name": "stdout",
     "output_type": "stream",
     "text": [
      "[HumanMessage(content='Is Aaronson guilty?'), AIMessage(content='Yes, according to the text, Jones, Aaronson, and Rutherford were guilty of the crimes they were charged with.'), HumanMessage(content='What message did he write in the table?'), AIMessage(content='The message he wrote on the table was: \"FREEDOM IS SLAVERY\" and \"TWO AND TWO MAKE FIVE\".'), HumanMessage(content='Who is Julia?'), AIMessage(content='Julia is a character in the text who is involved in a romantic relationship with Winston, the protagonist.'), HumanMessage(content='Aaronson 은 유죄인가요?'), AIMessage(content='죄를 지은 것으로 기록되어 있습니다.'), HumanMessage(content='그가 테이블에 어떤 메시지를 썼나요?'), AIMessage(content='그가 테이블에 쓴 메시지는 \"자유는 노예다\"와 \"2와 2는 5다\" 입니다.')]\n",
      "content='주인공인 윈스턴과 로맨틱한 관계에 있는 캐릭터입니다.' response_metadata={'token_usage': {'completion_tokens': 29, 'prompt_tokens': 2628, 'total_tokens': 2657}, 'model_name': 'gpt-3.5-turbo', 'system_fingerprint': None, 'finish_reason': 'stop', 'logprobs': None} id='run-9f02caa3-062b-4b52-9a77-c1b50925a90b-0'\n"
     ]
    }
   ],
   "source": [
    "invoke_chain('Julia 는 누구인가요?')"
   ]
  }
 ],
 "metadata": {
  "kernelspec": {
   "display_name": "venv",
   "language": "python",
   "name": "python3"
  },
  "language_info": {
   "codemirror_mode": {
    "name": "ipython",
    "version": 3
   },
   "file_extension": ".py",
   "mimetype": "text/x-python",
   "name": "python",
   "nbconvert_exporter": "python",
   "pygments_lexer": "ipython3",
   "version": "3.9.13"
  }
 },
 "nbformat": 4,
 "nbformat_minor": 2
}
